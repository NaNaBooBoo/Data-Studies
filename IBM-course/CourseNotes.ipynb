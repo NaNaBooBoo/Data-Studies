{
  "metadata": {
    "language_info": {
      "codemirror_mode": {
        "name": "python",
        "version": 3
      },
      "file_extension": ".py",
      "mimetype": "text/x-python",
      "name": "python",
      "nbconvert_exporter": "python",
      "pygments_lexer": "ipython3",
      "version": "3.8"
    },
    "kernelspec": {
      "name": "python",
      "display_name": "Python (Pyodide)",
      "language": "python"
    }
  },
  "nbformat_minor": 4,
  "nbformat": 4,
  "cells": [
    {
      "cell_type": "markdown",
      "source": "# Notes from the IBM Coursera Course",
      "metadata": {}
    },
    {
      "cell_type": "markdown",
      "source": "##  2nd Course notes",
      "metadata": {}
    },
    {
      "cell_type": "markdown",
      "source": "Classification and regression problems are targeted by supervised ML  \n### AP  \ndig deeper into this",
      "metadata": {}
    },
    {
      "cell_type": "markdown",
      "source": "## 3rd Course notes",
      "metadata": {}
    },
    {
      "cell_type": "code",
      "source": "",
      "metadata": {},
      "execution_count": null,
      "outputs": []
    }
  ]
}